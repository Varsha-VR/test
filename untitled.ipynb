{
 "cells": [
  {
   "cell_type": "code",
   "execution_count": 1,
   "id": "0b7f8fe7",
   "metadata": {},
   "outputs": [
    {
     "name": "stdout",
     "output_type": "stream",
     "text": [
      "Namaste\n"
     ]
    }
   ],
   "source": [
    "print (\"Namaste\")"
   ]
  },
  {
   "cell_type": "code",
   "execution_count": 3,
   "id": "9383b44b",
   "metadata": {},
   "outputs": [
    {
     "name": "stdout",
     "output_type": "stream",
     "text": [
      "Enter something you want to display:Hello\n",
      "Hello\n"
     ]
    }
   ],
   "source": [
    "a = input(\"Enter something you want to display:\")\n",
    "print (a)"
   ]
  },
  {
   "cell_type": "code",
   "execution_count": 4,
   "id": "e9acb78e",
   "metadata": {},
   "outputs": [
    {
     "name": "stdout",
     "output_type": "stream",
     "text": [
      "Enter your name: Aarohi\n",
      "Hello Aarohi\n"
     ]
    }
   ],
   "source": [
    "a = input(\"Enter your name: \")\n",
    "print (\"Hello \" +a)"
   ]
  },
  {
   "cell_type": "code",
   "execution_count": null,
   "id": "7a0b46ec",
   "metadata": {},
   "outputs": [],
   "source": []
  }
 ],
 "metadata": {
  "kernelspec": {
   "display_name": "Python 3 (ipykernel)",
   "language": "python",
   "name": "python3"
  },
  "language_info": {
   "codemirror_mode": {
    "name": "ipython",
    "version": 3
   },
   "file_extension": ".py",
   "mimetype": "text/x-python",
   "name": "python",
   "nbconvert_exporter": "python",
   "pygments_lexer": "ipython3",
   "version": "3.9.13"
  }
 },
 "nbformat": 4,
 "nbformat_minor": 5
}
